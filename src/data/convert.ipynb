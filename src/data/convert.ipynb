{
 "cells": [
  {
   "cell_type": "code",
   "execution_count": 1,
   "metadata": {},
   "outputs": [],
   "source": [
    "from hxpy import hxdf\n",
    "hxdf.enable_threaded = True"
   ]
  },
  {
   "cell_type": "code",
   "execution_count": 10,
   "metadata": {},
   "outputs": [],
   "source": [
    "required_fields = [\n",
    "    \"open\",\n",
    "    \"close\",\n",
    "    \"high\",\n",
    "    \"low\",\n",
    "    \"volume\",\n",
    "    \"vwap\",\n",
    "    \"ntrades\",\n",
    "    \"turnover_day\",\n",
    "    \"turnover_week\",\n",
    "    \"turnover_month\",\n",
    "    \"market_cap\",\n",
    "    \"pe\",\n",
    "    \"pb\",\n",
    "    \"dividend_yield\",\n",
    "    \"eps\",\n",
    "    \"roe\",\n",
    "    \"roa\",\n",
    "    \"dividend_yield\",\n",
    "    \"ps\",\n",
    "    \"de_ratio\",\n",
    "    \"free_cash_flow\",\n",
    "    \"current_ratio\",\n",
    "    \"quick_ratio\",\n",
    "    \"gross_margin\",\n",
    "    \"net_margin\",\n",
    "    \"ev\",\n",
    "    \"ev_ebitda\",\n",
    "    \"bvps\",\n",
    "]"
   ]
  },
  {
   "cell_type": "code",
   "execution_count": 3,
   "metadata": {},
   "outputs": [],
   "source": [
    "data_dir = '/home/wangsaizhuo/student/Research/phd_research/quantbench/data/main/us/aggs/full_hxdf'\n",
    "dst_dir = '/student/wangsaizhuo/Research/phd_research/quantbench/data/main/us/features/day'"
   ]
  },
  {
   "cell_type": "code",
   "execution_count": 11,
   "metadata": {},
   "outputs": [
    {
     "name": "stderr",
     "output_type": "stream",
     "text": [
      "100%|██████████| 28/28 [09:16<00:00, 19.88s/it]\n"
     ]
    }
   ],
   "source": [
    "import os\n",
    "import pandas as pd\n",
    "from tqdm import tqdm\n",
    "\n",
    "for field in tqdm(required_fields):\n",
    "    file_path = os.path.join(data_dir, field + '.hxdf')\n",
    "    df = hxdf.load(file_path).to_pandas()\n",
    "    df.index = pd.to_datetime(df.index).strftime('%Y-%m-%d')\n",
    "    df.to_csv(os.path.join(dst_dir, field + '.csv'))"
   ]
  },
  {
   "cell_type": "code",
   "execution_count": 13,
   "metadata": {},
   "outputs": [
    {
     "name": "stderr",
     "output_type": "stream",
     "text": [
      "100%|██████████| 5/5 [01:10<00:00, 14.10s/it]\n"
     ]
    }
   ],
   "source": [
    "import os\n",
    "import pandas as pd\n",
    "from tqdm import tqdm\n",
    "\n",
    "required_fields = ['amount', 'avg_trade_price', 'count', 'normalized', 'open']\n",
    "for field in tqdm(required_fields):\n",
    "    file_path = os.path.join(data_dir, field + '.hxdf')\n",
    "    df = hxdf.load(file_path).to_pandas()\n",
    "    df.index = pd.to_datetime(df.index).strftime('%Y-%m-%d')\n",
    "    df.to_csv(os.path.join(dst_dir, field + '.csv'))"
   ]
  },
  {
   "cell_type": "code",
   "execution_count": null,
   "metadata": {},
   "outputs": [],
   "source": []
  }
 ],
 "metadata": {
  "kernelspec": {
   "display_name": "py38",
   "language": "python",
   "name": "python3"
  },
  "language_info": {
   "codemirror_mode": {
    "name": "ipython",
    "version": 3
   },
   "file_extension": ".py",
   "mimetype": "text/x-python",
   "name": "python",
   "nbconvert_exporter": "python",
   "pygments_lexer": "ipython3",
   "version": "3.8.16"
  }
 },
 "nbformat": 4,
 "nbformat_minor": 2
}
